{
 "cells": [
  {
   "cell_type": "markdown",
   "id": "ef322a5a",
   "metadata": {},
   "source": [
    "# H1"
   ]
  },
  {
   "cell_type": "markdown",
   "id": "8f7e52b1",
   "metadata": {},
   "source": [
    "#주피터 노트북 사용법\n",
    "## 셀모드: 셀 왼쪽 빈 공간 클릭 =>파란색으로 활성화\n",
    "* ** 위에 셀 추가 ** a\n",
    "* ** 위에 셀 추가 ** b\n",
    "* ** 셀 복사: ** c\n",
    "* ** 셀 잘라내기: ** x\n",
    "* ** 셀 붙여넣기: ** v\n",
    "* ** markdown모드: ** m\n",
    "* ** coding모드** y\n",
    "* ** 수식 넣기** \n",
    "\n",
    "## 코딩모드: 셀 안쪽 클릭 => 녹색으로 활성화 셀 왼쪽에 In []: 가 있음\n",
    "## 마크다운 모드\n",
    "* **수식 넣기:** $$ Tex $$\n",
    "$$ (A \\cap B) $$ <br>\n",
    "$$ A over B $$"
   ]
  },
  {
   "cell_type": "code",
   "execution_count": null,
   "id": "5039b0dc",
   "metadata": {},
   "outputs": [],
   "source": [
    "* 링크걸기 <br>\n",
    "[네이버링크].(https://www.naver.com)\n",
    "*![이미지 넣기].(https://mblogthumb-phinf.pstatic.net/MjAxNzAyMTNfMjEg/MDAxNDg2OTcxNzM3NTE5.FKqf5HaO1eoFhgXkGE2jXVKKQ-jVdwXho4N8cIU6L-Ig.KOSZAUeaSF3L8rh1kjDgoQUDuFg5pEX6EsZKJ4lmASEg.JPEG.acornedu/01_%ED%94%84%EB%A1%9C%EA%B7%B8%EB%9E%98%EB%B0%8D%EC%96%B8%EC%96%B4.jpg?type=w800)\n",
    "*이미지 넣기 2\n",
    "![내컴이미지]()"
   ]
  },
  {
   "cell_type": "markdown",
   "id": "72d46f32",
   "metadata": {},
   "source": [
    "# 파이썬 기초 문법\n",
    "* 파이썬은 세미콜론(;)을 쓰지 않는다.\n",
    "* 한 줄에 여러 명령을 쓸때 사용.\n",
    "* 파이썬의 주석은 문장앞에 #을 붙인다. ctrl + /\n",
    "* 파이썬은 들여쓰기를 사용해서 코드를 구분해 작성한다.\n",
    "* 들여쓰기는 4칸이 기본(스페이스바 사용) google colab은 2칸\n",
    "* 변수를 만들때 스네이크 표기법을 사용한다. ex) user_name\n",
    "* 클래스를 만들때는 카멜 표기법을 사용한다. ex) UserName, RandomForestClassifirer()\n",
    "* 쉬프트 텝을 누르면 도움말이 나옴 "
   ]
  },
  {
   "cell_type": "markdown",
   "id": "a3e04a75",
   "metadata": {},
   "source": [
    "# print문 "
   ]
  },
  {
   "cell_type": "code",
   "execution_count": 4,
   "id": "02e0c0da",
   "metadata": {},
   "outputs": [
    {
     "name": "stdout",
     "output_type": "stream",
     "text": [
      "Hello python\n"
     ]
    }
   ],
   "source": [
    "print('Hello python')"
   ]
  },
  {
   "cell_type": "code",
   "execution_count": 6,
   "id": "03993e48",
   "metadata": {},
   "outputs": [
    {
     "name": "stdout",
     "output_type": "stream",
     "text": [
      "Hello,python--Hello, world\n"
     ]
    }
   ],
   "source": [
    "print('Hello,python','Hello, world', sep=\"vs\", end=\"\")"
   ]
  },
  {
   "cell_type": "code",
   "execution_count": 7,
   "id": "01563b1c",
   "metadata": {},
   "outputs": [
    {
     "name": "stdout",
     "output_type": "stream",
     "text": [
      "Hello,python\n",
      "Hello, world\n"
     ]
    }
   ],
   "source": [
    "print('Hello,python', sep=\"\", end=\"\\r\")\n",
    "print('Hello, world')"
   ]
  },
  {
   "cell_type": "code",
   "execution_count": 18,
   "id": "c0119241",
   "metadata": {},
   "outputs": [
    {
     "name": "stdout",
     "output_type": "stream",
     "text": [
      "99\r"
     ]
    }
   ],
   "source": [
    "import time\n",
    "for i in range(1,100):\n",
    "    time.sleep(1)\n",
    "    print(i, end=\"\\r\")"
   ]
  },
  {
   "cell_type": "code",
   "execution_count": 19,
   "id": "112c767d",
   "metadata": {},
   "outputs": [
    {
     "ename": "SyntaxError",
     "evalue": "unexpected character after line continuation character (1700552243.py, line 1)",
     "output_type": "error",
     "traceback": [
      "\u001b[1;36m  Cell \u001b[1;32mIn[19], line 1\u001b[1;36m\u001b[0m\n\u001b[1;33m    print('Hello, python', sep=\" \", end=\\n\")\u001b[0m\n\u001b[1;37m                                         ^\u001b[0m\n\u001b[1;31mSyntaxError\u001b[0m\u001b[1;31m:\u001b[0m unexpected character after line continuation character\n"
     ]
    }
   ],
   "source": [
    "print('Hello, python', sep=\" \", end=\\n\")\n",
    "print()\n",
    "print('Hello, world')\n",
    "      \n",
    "      \n",
    "      \n"
   ]
  },
  {
   "cell_type": "markdown",
   "id": "8c53c44c",
   "metadata": {},
   "source": [
    "# 변수\n",
    "*영문, 숫자를 조합해서 만들수 있다\n",
    "*문자부터 시작해야 하며 숫자부터 시작하면 안된다\n",
    "*대소문자를 구분한다\n",
    "* _로 시작할 수 있다. -는 안된다\n",
    "* 특수문자 사용안됨\n",
    "* 파이썬의 키워드(예약어) if. for while.str은 사용할 수 없다\n",
    "* 변수는 스네이크 표기법으로 명명한다. "
   ]
  },
  {
   "cell_type": "code",
   "execution_count": 21,
   "id": "61eb538d",
   "metadata": {},
   "outputs": [
    {
     "ename": "SyntaxError",
     "evalue": "invalid syntax (182722112.py, line 1)",
     "output_type": "error",
     "traceback": [
      "\u001b[1;36m  Cell \u001b[1;32mIn[21], line 1\u001b[1;36m\u001b[0m\n\u001b[1;33m    if = 10\u001b[0m\n\u001b[1;37m       ^\u001b[0m\n\u001b[1;31mSyntaxError\u001b[0m\u001b[1;31m:\u001b[0m invalid syntax\n"
     ]
    }
   ],
   "source": [
    "if = 10"
   ]
  },
  {
   "cell_type": "code",
   "execution_count": null,
   "id": "0f789669",
   "metadata": {},
   "outputs": [],
   "source": [
    "#str = 10"
   ]
  },
  {
   "cell_type": "code",
   "execution_count": null,
   "id": "6c872981",
   "metadata": {},
   "outputs": [],
   "source": [
    "#int = 20"
   ]
  },
  {
   "cell_type": "code",
   "execution_count": null,
   "id": "6b6b671b",
   "metadata": {},
   "outputs": [],
   "source": [
    "# id = 30 "
   ]
  },
  {
   "cell_type": "code",
   "execution_count": 22,
   "id": "8302195b",
   "metadata": {},
   "outputs": [
    {
     "data": {
      "text/plain": [
       "20"
      ]
     },
     "execution_count": 22,
     "metadata": {},
     "output_type": "execute_result"
    }
   ],
   "source": [
    "a = int(\"20\")\n",
    "a "
   ]
  },
  {
   "cell_type": "code",
   "execution_count": 23,
   "id": "5236c03d",
   "metadata": {},
   "outputs": [
    {
     "data": {
      "text/plain": [
       "2455676126032"
      ]
     },
     "execution_count": 23,
     "metadata": {},
     "output_type": "execute_result"
    }
   ],
   "source": [
    "id(a)"
   ]
  },
  {
   "cell_type": "code",
   "execution_count": 24,
   "id": "a318f6f3",
   "metadata": {},
   "outputs": [],
   "source": [
    "a = 10\n",
    "b = 3.14\n",
    "c = \"문자열\""
   ]
  },
  {
   "cell_type": "code",
   "execution_count": 25,
   "id": "3cef97e1",
   "metadata": {},
   "outputs": [
    {
     "data": {
      "text/plain": [
       "10"
      ]
     },
     "execution_count": 25,
     "metadata": {},
     "output_type": "execute_result"
    }
   ],
   "source": [
    "a"
   ]
  },
  {
   "cell_type": "code",
   "execution_count": 26,
   "id": "c689058d",
   "metadata": {},
   "outputs": [
    {
     "data": {
      "text/plain": [
       "3.14"
      ]
     },
     "execution_count": 26,
     "metadata": {},
     "output_type": "execute_result"
    }
   ],
   "source": [
    "b"
   ]
  },
  {
   "cell_type": "code",
   "execution_count": 27,
   "id": "fba76ebe",
   "metadata": {},
   "outputs": [
    {
     "name": "stdout",
     "output_type": "stream",
     "text": [
      "3.14\n"
     ]
    },
    {
     "data": {
      "text/plain": [
       "'문자열'"
      ]
     },
     "execution_count": 27,
     "metadata": {},
     "output_type": "execute_result"
    }
   ],
   "source": [
    "print(b)\n",
    "c"
   ]
  },
  {
   "cell_type": "code",
   "execution_count": 28,
   "id": "4c9b28fb",
   "metadata": {},
   "outputs": [
    {
     "name": "stdout",
     "output_type": "stream",
     "text": [
      "10\n",
      "10\n"
     ]
    }
   ],
   "source": [
    "a = 10\n",
    "b = '10'\n",
    "print(a)\n",
    "print(b)"
   ]
  },
  {
   "cell_type": "code",
   "execution_count": 29,
   "id": "a5593db5",
   "metadata": {},
   "outputs": [
    {
     "data": {
      "text/plain": [
       "10"
      ]
     },
     "execution_count": 29,
     "metadata": {},
     "output_type": "execute_result"
    }
   ],
   "source": [
    "a"
   ]
  },
  {
   "cell_type": "code",
   "execution_count": 30,
   "id": "497ae4cb",
   "metadata": {},
   "outputs": [
    {
     "data": {
      "text/plain": [
       "'10'"
      ]
     },
     "execution_count": 30,
     "metadata": {},
     "output_type": "execute_result"
    }
   ],
   "source": [
    "b"
   ]
  },
  {
   "cell_type": "markdown",
   "id": "cae12a65",
   "metadata": {},
   "source": [
    "#키보드 입력받기 input()\n",
    "* input() 함수로 입력받는 모든 값은 문자열로 저장된다.\n",
    "* 반드시 형변환이 필요"
   ]
  },
  {
   "cell_type": "code",
   "execution_count": 31,
   "id": "320dd749",
   "metadata": {},
   "outputs": [
    {
     "name": "stdout",
     "output_type": "stream",
     "text": [
      "10\n",
      "20\n",
      "1020\n"
     ]
    }
   ],
   "source": [
    "num = input()\n",
    "num2 = input()\n",
    "print(num+num2)"
   ]
  },
  {
   "cell_type": "code",
   "execution_count": 33,
   "id": "43302b24",
   "metadata": {},
   "outputs": [
    {
     "name": "stdout",
     "output_type": "stream",
     "text": [
      "10 20\n",
      "30\n"
     ]
    }
   ],
   "source": [
    "num, num2 = input().split()\n",
    "print(int(num)+int(num2))"
   ]
  },
  {
   "cell_type": "markdown",
   "id": "8a0bdf25",
   "metadata": {},
   "source": [
    "#변수 여러개를 한 번에 만들기\n",
    "*변수 개수와 데이터 개수는 일치시켜야 함"
   ]
  },
  {
   "cell_type": "code",
   "execution_count": 40,
   "id": "9ed44308",
   "metadata": {},
   "outputs": [],
   "source": [
    "x, y, z = 10,20,30"
   ]
  },
  {
   "cell_type": "code",
   "execution_count": 41,
   "id": "aae22aa2",
   "metadata": {},
   "outputs": [
    {
     "name": "stdout",
     "output_type": "stream",
     "text": [
      "10 20 30\n"
     ]
    }
   ],
   "source": [
    "print(x,y,z)"
   ]
  },
  {
   "cell_type": "markdown",
   "id": "9358771b",
   "metadata": {},
   "source": [
    "# 변수 삭제하기 del 변수명"
   ]
  },
  {
   "cell_type": "code",
   "execution_count": null,
   "id": "3a03527d",
   "metadata": {},
   "outputs": [],
   "source": [
    "del x"
   ]
  },
  {
   "cell_type": "code",
   "execution_count": null,
   "id": "027d9101",
   "metadata": {},
   "outputs": [],
   "source": [
    "x"
   ]
  },
  {
   "cell_type": "code",
   "execution_count": null,
   "id": "c12e19af",
   "metadata": {},
   "outputs": [],
   "source": []
  },
  {
   "cell_type": "code",
   "execution_count": null,
   "id": "6b3e5b53",
   "metadata": {},
   "outputs": [],
   "source": []
  },
  {
   "cell_type": "code",
   "execution_count": null,
   "id": "df0cf3c8",
   "metadata": {},
   "outputs": [],
   "source": []
  },
  {
   "cell_type": "code",
   "execution_count": null,
   "id": "d0c57b5d",
   "metadata": {},
   "outputs": [],
   "source": []
  },
  {
   "cell_type": "code",
   "execution_count": null,
   "id": "77fedcbd",
   "metadata": {},
   "outputs": [],
   "source": []
  },
  {
   "cell_type": "code",
   "execution_count": null,
   "id": "6057f26c",
   "metadata": {},
   "outputs": [],
   "source": []
  },
  {
   "cell_type": "code",
   "execution_count": null,
   "id": "c20bbd47",
   "metadata": {},
   "outputs": [],
   "source": []
  },
  {
   "cell_type": "code",
   "execution_count": null,
   "id": "2612f43c",
   "metadata": {},
   "outputs": [],
   "source": []
  },
  {
   "cell_type": "code",
   "execution_count": null,
   "id": "cc327537",
   "metadata": {},
   "outputs": [],
   "source": []
  },
  {
   "cell_type": "code",
   "execution_count": null,
   "id": "2e4ab4d2",
   "metadata": {},
   "outputs": [],
   "source": []
  },
  {
   "cell_type": "code",
   "execution_count": null,
   "id": "6fcefac6",
   "metadata": {},
   "outputs": [],
   "source": []
  },
  {
   "cell_type": "code",
   "execution_count": null,
   "id": "805f8f58",
   "metadata": {},
   "outputs": [],
   "source": []
  },
  {
   "cell_type": "code",
   "execution_count": null,
   "id": "7c2444a5",
   "metadata": {},
   "outputs": [],
   "source": []
  }
 ],
 "metadata": {
  "kernelspec": {
   "display_name": "Python 3 (ipykernel)",
   "language": "python",
   "name": "python3"
  },
  "language_info": {
   "codemirror_mode": {
    "name": "ipython",
    "version": 3
   },
   "file_extension": ".py",
   "mimetype": "text/x-python",
   "name": "python",
   "nbconvert_exporter": "python",
   "pygments_lexer": "ipython3",
   "version": "3.10.14"
  }
 },
 "nbformat": 4,
 "nbformat_minor": 5
}
