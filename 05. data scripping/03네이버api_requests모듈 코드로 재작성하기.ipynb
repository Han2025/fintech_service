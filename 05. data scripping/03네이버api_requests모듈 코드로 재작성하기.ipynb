{
 "cells": [
  {
   "cell_type": "markdown",
   "id": "39216c76",
   "metadata": {},
   "source": [
    "# 1.requests 모듈: HTTP프로토콜을 사요할 수 있게 해주는 라이브러리\n",
    "## requests모듈 사용 설명서: <br>https://requests.readthedocs.io/en/latest/user/quickstart/#make-a-request"
   ]
  },
  {
   "cell_type": "markdown",
   "id": "5ab544fb",
   "metadata": {},
   "source": [
    "# 2. requests 모듈 설치\n",
    "## conda install requsests\n",
    "## pip install requests"
   ]
  },
  {
   "cell_type": "markdown",
   "id": "74f9490b",
   "metadata": {},
   "source": [
    "# 3. requests모듈 사용법"
   ]
  },
  {
   "cell_type": "markdown",
   "id": "7ee5399c",
   "metadata": {},
   "source": [
    "## 1) 모듈 불러오기: import requests"
   ]
  },
  {
   "cell_type": "code",
   "execution_count": 1,
   "id": "d10f7b4b",
   "metadata": {},
   "outputs": [],
   "source": [
    "import requests"
   ]
  },
  {
   "cell_type": "markdown",
   "id": "f4567ba0",
   "metadata": {},
   "source": [
    "## 2) HTTP 접근 요청 get, post\n",
    "### r = requests.get(URL, parameters)\n",
    "### r = requests.post(URL, data={key:value}"
   ]
  },
  {
   "cell_type": "markdown",
   "id": "8e3c81de",
   "metadata": {},
   "source": [
    "## 3) URL 파라미터 \n",
    "### params = {파라미터1 : value, 파라미터2 : value, 파라미터3 : value}\n",
    "### payload = {'key1' : 'value1','key2': 'value2'}\n",
    "### r = requests.get(URL, params=payload)"
   ]
  },
  {
   "cell_type": "markdown",
   "id": "b2297470",
   "metadata": {},
   "source": [
    "## 4) 만들어진 URL 확인 : print(r.url)"
   ]
  },
  {
   "cell_type": "markdown",
   "id": "87fc5ed5",
   "metadata": {},
   "source": [
    "## 5) header 값 넣기: \n",
    "### r = requests.head(user-agent값)\n",
    "### headers = {'key1': 'value1', 'key2': 'value2'}\n",
    "### r = requests.get(URL, params=payload, headers=headers)"
   ]
  },
  {
   "cell_type": "markdown",
   "id": "718d54e2",
   "metadata": {},
   "source": [
    "## 6) 응답요소 response content: r.text, r.json()\n",
    "## response = r.text\n",
    "## response = r.json()"
   ]
  },
  {
   "cell_type": "markdown",
   "id": "168dedd0",
   "metadata": {},
   "source": [
    "## 7) 응답코드 r.status_code\n"
   ]
  },
  {
   "cell_type": "markdown",
   "id": "56402d22",
   "metadata": {},
   "source": [
    "# 네이버 검색 API 코드를 urllib 에서 requsts로 변경하기"
   ]
  },
  {
   "cell_type": "code",
   "execution_count": null,
   "id": "6541852e",
   "metadata": {},
   "outputs": [],
   "source": [
    "# 네이버 검색 API 예제 - 블로그 검색\n",
    "import os\n",
    "import sys\n",
    "import urllib.request\n",
    "client_id = \"YOUR_CLIENT_ID\"\n",
    "client_secret = \"YOUR_CLIENT_SECRET\"\n",
    "encText = urllib.parse.quote(\"검색할 단어\")\n",
    "url = \"https://openapi.naver.com/v1/search/blog?query=\" + encText # JSON 결과\n",
    "# url = \"https://openapi.naver.com/v1/search/blog.xml?query=\" + encText # XML 결과\n",
    "request = urllib.request.Request(url)\n",
    "request.add_header(\"X-Naver-Client-Id\",client_id)\n",
    "request.add_header(\"X-Naver-Client-Secret\",client_secret)\n",
    "response = urllib.request.urlopen(request)\n",
    "rescode = response.getcode()\n",
    "if(rescode==200):\n",
    "    response_body = response.read()\n",
    "    print(response_body.decode('utf-8'))\n",
    "else:\n",
    "    print(\"Error Code:\" + rescode)"
   ]
  },
  {
   "cell_type": "code",
   "execution_count": 18,
   "id": "2e4982b8",
   "metadata": {},
   "outputs": [],
   "source": [
    "import requests\n",
    "import pandas as pd"
   ]
  },
  {
   "cell_type": "code",
   "execution_count": 41,
   "id": "cf4b15a3",
   "metadata": {},
   "outputs": [
    {
     "name": "stdout",
     "output_type": "stream",
     "text": [
      "https://openapi.naver.com/v1/search/blog.json?query=%ED%95%80%ED%85%8C%ED%81%AC&display=10&start=1&sort=sim\n",
      "<class 'dict'>\n"
     ]
    }
   ],
   "source": [
    "load_dotenv()\n",
    "client_id = os.getenv('client_id') # 네이버 api에 접속 가능한 id \n",
    "client_secret = os.getenv('client_secret') # 네이버 api에 접속 가능한 pw \n",
    "url = \"https://openapi.naver.com/v1/search/blog.json\"\n",
    "payload = {'query': '핀테크', 'display' : 10, 'start' : 1, 'sort': 'sim'}\n",
    "headers = {\"X-Naver-Client-Id\" : client_id, \"X-Naver-Client-Secret\" : client_secret}\n",
    "r = requests.get(url, params=payload, headers=headers)\n",
    "print(r.url)\n",
    "if(r.status_code == 200):\n",
    "    data = r.json()\n",
    "    print(type(data))\n",
    "else:\n",
    "    print(\"Error Code:\", r.status_code)\n"
   ]
  },
  {
   "cell_type": "code",
   "execution_count": 42,
   "id": "d29aff3e",
   "metadata": {},
   "outputs": [
    {
     "data": {
      "text/html": [
       "<div>\n",
       "<style scoped>\n",
       "    .dataframe tbody tr th:only-of-type {\n",
       "        vertical-align: middle;\n",
       "    }\n",
       "\n",
       "    .dataframe tbody tr th {\n",
       "        vertical-align: top;\n",
       "    }\n",
       "\n",
       "    .dataframe thead th {\n",
       "        text-align: right;\n",
       "    }\n",
       "</style>\n",
       "<table border=\"1\" class=\"dataframe\">\n",
       "  <thead>\n",
       "    <tr style=\"text-align: right;\">\n",
       "      <th></th>\n",
       "      <th>title</th>\n",
       "      <th>link</th>\n",
       "      <th>description</th>\n",
       "      <th>bloggername</th>\n",
       "      <th>bloggerlink</th>\n",
       "      <th>postdate</th>\n",
       "    </tr>\n",
       "  </thead>\n",
       "  <tbody>\n",
       "    <tr>\n",
       "      <th>0</th>\n",
       "      <td>서울시, &lt;b&gt;핀테크&lt;/b&gt;, 가계대출, 신한은행, 대출 금리 인상...</td>\n",
       "      <td>https://blog.naver.com/angeldia/223521411021</td>\n",
       "      <td>이끌 &lt;b&gt;핀테크&lt;/b&gt; 스타트업 6곳 선정 발표 2024-07-22 13:44:0...</td>\n",
       "      <td>Fin. cube.</td>\n",
       "      <td>blog.naver.com/angeldia</td>\n",
       "      <td>20240722</td>\n",
       "    </tr>\n",
       "    <tr>\n",
       "      <th>1</th>\n",
       "      <td>달러스왑 &lt;b&gt;핀테크&lt;/b&gt;만으로 800% 수익 난다</td>\n",
       "      <td>https://blog.naver.com/balmin/223520733366</td>\n",
       "      <td>달러스왑 &lt;b&gt;핀테크&lt;/b&gt;만으로 800% 수익 난다! 저자 손대식 출판 지식과감성...</td>\n",
       "      <td>위편삼절의 독서공간</td>\n",
       "      <td>blog.naver.com/balmin</td>\n",
       "      <td>20240721</td>\n",
       "    </tr>\n",
       "    <tr>\n",
       "      <th>2</th>\n",
       "      <td>목돈 만들기 앱테크 : 소셜 &lt;b&gt;핀테크&lt;/b&gt; 아임인 시작해 볼까?</td>\n",
       "      <td>https://blog.naver.com/jkyun0621/223522303455</td>\n",
       "      <td>목돈 만들기 앱테크 : 소셜 &lt;b&gt;핀테크&lt;/b&gt; 아임인 시작해 볼까? 한국 전통문화...</td>\n",
       "      <td>경제현미경의 디테일한 시야</td>\n",
       "      <td>blog.naver.com/jkyun0621</td>\n",
       "      <td>20240723</td>\n",
       "    </tr>\n",
       "    <tr>\n",
       "      <th>3</th>\n",
       "      <td>손대식, &amp;lt;달러스왑 &lt;b&gt;핀테크&lt;/b&gt;만으로 800% 수익 난다!&amp;gt;</td>\n",
       "      <td>https://blog.naver.com/writeread/223519959546</td>\n",
       "      <td>달러스왑 &lt;b&gt;핀테크&lt;/b&gt;만으로 800% 수익 난다! 저자 손대식 출판 지식과감성...</td>\n",
       "      <td>Over the Rainbow</td>\n",
       "      <td>blog.naver.com/writeread</td>\n",
       "      <td>20240721</td>\n",
       "    </tr>\n",
       "    <tr>\n",
       "      <th>4</th>\n",
       "      <td>아임인 온라인 계모임 &lt;b&gt;핀테크&lt;/b&gt; 플랫폼 feat. 스테이지 채권추심...</td>\n",
       "      <td>https://blog.naver.com/disneyworld777/22350373...</td>\n",
       "      <td>계모임 #&lt;b&gt;핀테크&lt;/b&gt; #플랫폼 #프로모션 #코드 #프로모션코드 #아임인프로모...</td>\n",
       "      <td>경제적자유를찾아서</td>\n",
       "      <td>blog.naver.com/disneyworld777</td>\n",
       "      <td>20240706</td>\n",
       "    </tr>\n",
       "    <tr>\n",
       "      <th>5</th>\n",
       "      <td>WISE 영국 &lt;b&gt;핀테크&lt;/b&gt; 송금 앱 - 싱가포르에서 한국 계좌로 송금 후기</td>\n",
       "      <td>https://blog.naver.com/gahyun9898/223522337531</td>\n",
       "      <td>☺️ #해외송금어플 #해외송금앱 #와이즈해외송금앱 #와이즈송금후기 #센트비후기 #와...</td>\n",
       "      <td>꾸역이의 일상블로그</td>\n",
       "      <td>blog.naver.com/gahyun9898</td>\n",
       "      <td>20240723</td>\n",
       "    </tr>\n",
       "    <tr>\n",
       "      <th>6</th>\n",
       "      <td>달러스왑 &lt;b&gt;핀테크&lt;/b&gt;만으로 800% 수익 난다 북 리뷰!</td>\n",
       "      <td>https://blog.naver.com/catsman/223510449282</td>\n",
       "      <td>달러스왑 &lt;b&gt;핀테크&lt;/b&gt;만으로 800% 수익 난다! 저자 손대식 출판 지식과감성...</td>\n",
       "      <td>냥이를 말해봐</td>\n",
       "      <td>blog.naver.com/catsman</td>\n",
       "      <td>20240712</td>\n",
       "    </tr>\n",
       "    <tr>\n",
       "      <th>7</th>\n",
       "      <td>투자의 새로운 시각 '달러스왑 &lt;b&gt;핀테크&lt;/b&gt;만으로 800% 수익 난다...</td>\n",
       "      <td>https://blog.naver.com/hyejj1226/223520593837</td>\n",
       "      <td>[도서서평] 투자의 새로운 시각 '달러스왑 &lt;b&gt;핀테크&lt;/b&gt;만으로 800% 수익 ...</td>\n",
       "      <td>꿈쟁이의 감성 스타일링</td>\n",
       "      <td>blog.naver.com/hyejj1226</td>\n",
       "      <td>20240721</td>\n",
       "    </tr>\n",
       "    <tr>\n",
       "      <th>8</th>\n",
       "      <td>쿠팡 정산 올라 &lt;b&gt;핀테크&lt;/b&gt; 활용 사업자 선정산하는 방법</td>\n",
       "      <td>https://blog.naver.com/moonkra7/223513479061</td>\n",
       "      <td>올라 &lt;b&gt;핀테크&lt;/b&gt;란? 올라 &lt;b&gt;핀테크&lt;/b&gt;는 2020년 9월 런칭해서 하...</td>\n",
       "      <td>달그래의 쏠쏠한 재테크</td>\n",
       "      <td>blog.naver.com/moonkra7</td>\n",
       "      <td>20240715</td>\n",
       "    </tr>\n",
       "    <tr>\n",
       "      <th>9</th>\n",
       "      <td>[도서] 달러스왑 &lt;b&gt;핀테크&lt;/b&gt;만으로 800%수익난다!</td>\n",
       "      <td>https://blog.naver.com/chekini/223517557241</td>\n",
       "      <td>[도서명] 달러스왑 &lt;b&gt;핀테크&lt;/b&gt;만으로 800% 수익난다! 부제 (일본의 눈물...</td>\n",
       "      <td>asdf의 홈로그</td>\n",
       "      <td>blog.naver.com/chekini</td>\n",
       "      <td>20240718</td>\n",
       "    </tr>\n",
       "  </tbody>\n",
       "</table>\n",
       "</div>"
      ],
      "text/plain": [
       "                                            title  \\\n",
       "0       서울시, <b>핀테크</b>, 가계대출, 신한은행, 대출 금리 인상...    \n",
       "1                   달러스왑 <b>핀테크</b>만으로 800% 수익 난다   \n",
       "2          목돈 만들기 앱테크 : 소셜 <b>핀테크</b> 아임인 시작해 볼까?   \n",
       "3     손대식, &lt;달러스왑 <b>핀테크</b>만으로 800% 수익 난다!&gt;   \n",
       "4  아임인 온라인 계모임 <b>핀테크</b> 플랫폼 feat. 스테이지 채권추심...    \n",
       "5   WISE 영국 <b>핀테크</b> 송금 앱 - 싱가포르에서 한국 계좌로 송금 후기   \n",
       "6             달러스왑 <b>핀테크</b>만으로 800% 수익 난다 북 리뷰!   \n",
       "7   투자의 새로운 시각 '달러스왑 <b>핀테크</b>만으로 800% 수익 난다...    \n",
       "8             쿠팡 정산 올라 <b>핀테크</b> 활용 사업자 선정산하는 방법   \n",
       "9               [도서] 달러스왑 <b>핀테크</b>만으로 800%수익난다!   \n",
       "\n",
       "                                                link  \\\n",
       "0       https://blog.naver.com/angeldia/223521411021   \n",
       "1         https://blog.naver.com/balmin/223520733366   \n",
       "2      https://blog.naver.com/jkyun0621/223522303455   \n",
       "3      https://blog.naver.com/writeread/223519959546   \n",
       "4  https://blog.naver.com/disneyworld777/22350373...   \n",
       "5     https://blog.naver.com/gahyun9898/223522337531   \n",
       "6        https://blog.naver.com/catsman/223510449282   \n",
       "7      https://blog.naver.com/hyejj1226/223520593837   \n",
       "8       https://blog.naver.com/moonkra7/223513479061   \n",
       "9        https://blog.naver.com/chekini/223517557241   \n",
       "\n",
       "                                         description       bloggername  \\\n",
       "0  이끌 <b>핀테크</b> 스타트업 6곳 선정 발표 2024-07-22 13:44:0...        Fin. cube.   \n",
       "1  달러스왑 <b>핀테크</b>만으로 800% 수익 난다! 저자 손대식 출판 지식과감성...        위편삼절의 독서공간   \n",
       "2  목돈 만들기 앱테크 : 소셜 <b>핀테크</b> 아임인 시작해 볼까? 한국 전통문화...    경제현미경의 디테일한 시야   \n",
       "3  달러스왑 <b>핀테크</b>만으로 800% 수익 난다! 저자 손대식 출판 지식과감성...  Over the Rainbow   \n",
       "4  계모임 #<b>핀테크</b> #플랫폼 #프로모션 #코드 #프로모션코드 #아임인프로모...         경제적자유를찾아서   \n",
       "5  ☺️ #해외송금어플 #해외송금앱 #와이즈해외송금앱 #와이즈송금후기 #센트비후기 #와...        꾸역이의 일상블로그   \n",
       "6  달러스왑 <b>핀테크</b>만으로 800% 수익 난다! 저자 손대식 출판 지식과감성...           냥이를 말해봐   \n",
       "7  [도서서평] 투자의 새로운 시각 '달러스왑 <b>핀테크</b>만으로 800% 수익 ...      꿈쟁이의 감성 스타일링   \n",
       "8  올라 <b>핀테크</b>란? 올라 <b>핀테크</b>는 2020년 9월 런칭해서 하...      달그래의 쏠쏠한 재테크   \n",
       "9  [도서명] 달러스왑 <b>핀테크</b>만으로 800% 수익난다! 부제 (일본의 눈물...         asdf의 홈로그   \n",
       "\n",
       "                     bloggerlink  postdate  \n",
       "0        blog.naver.com/angeldia  20240722  \n",
       "1          blog.naver.com/balmin  20240721  \n",
       "2       blog.naver.com/jkyun0621  20240723  \n",
       "3       blog.naver.com/writeread  20240721  \n",
       "4  blog.naver.com/disneyworld777  20240706  \n",
       "5      blog.naver.com/gahyun9898  20240723  \n",
       "6         blog.naver.com/catsman  20240712  \n",
       "7       blog.naver.com/hyejj1226  20240721  \n",
       "8        blog.naver.com/moonkra7  20240715  \n",
       "9         blog.naver.com/chekini  20240718  "
      ]
     },
     "execution_count": 42,
     "metadata": {},
     "output_type": "execute_result"
    }
   ],
   "source": [
    "df = pd.json_normalize(data['items'])\n",
    "df"
   ]
  },
  {
   "cell_type": "code",
   "execution_count": 38,
   "id": "60faff61",
   "metadata": {},
   "outputs": [],
   "source": [
    "import requests\n",
    "import pandas as pd\n",
    "import time\n",
    "import os\n",
    "from dotenv import load_dotenv"
   ]
  },
  {
   "cell_type": "code",
   "execution_count": 36,
   "id": "5c2872cb",
   "metadata": {},
   "outputs": [
    {
     "name": "stdout",
     "output_type": "stream",
     "text": [
      "C:\\fintech_service\\05data_scraping\n"
     ]
    }
   ],
   "source": [
    "print(os.getcwd())"
   ]
  },
  {
   "cell_type": "code",
   "execution_count": 39,
   "id": "ec30ed53",
   "metadata": {},
   "outputs": [],
   "source": [
    "def naver_search():\n",
    "    \n",
    "    service = input('''검색 서비스 번호를 입력하세요:\n",
    "    1 블로그\n",
    "    2 책\n",
    "    3 뉴스\n",
    "    4 전문자료\n",
    "    ''')\n",
    "    query = input(\"검색어를 입력하세요: \")\n",
    "    \n",
    "    if service == '1':\n",
    "        service = 'blog'\n",
    "        sort='sim'\n",
    "    elif service =='2':\n",
    "        service = 'book'\n",
    "        sort='sim'\n",
    "    elif service =='3':\n",
    "        service = 'news'\n",
    "        sort='date'\n",
    "    elif service =='4':\n",
    "        service = 'doc'\n",
    "        \n",
    "    \n",
    "    \n",
    "    book_lists = []\n",
    "    page = 1\n",
    "    start = 1\n",
    "    load_dotenv()\n",
    "    \n",
    "    while True:\n",
    "        client_id = os.getenv('client_id') # 네이버 api에 접속 가능한 id \n",
    "        client_secret = os.getenv('client_secret') # 네이버 api에 접속 가능한 pw \n",
    "        url = f\"https://openapi.naver.com/v1/search/{service}.json\"\n",
    "        payload = dict(query=query, display=10, start=start, sort=sort)\n",
    "        headers = {\"X-Naver-Client-Id\" : client_id, \"X-Naver-Client-Secret\" : client_secret}\n",
    "\n",
    "        try:\n",
    "            r = requests.get(url, params=payload, headers=headers)\n",
    "            if(r.status_code==200):\n",
    "                data = r.json()\n",
    "                book_lists.append(data)\n",
    "                total_page = data['total'] // 10 + 1\n",
    "                if total_page > 100:\n",
    "                    total_page = 100\n",
    "            else:\n",
    "                print(\"Error Code:\" + rescode)\n",
    "                break\n",
    "\n",
    "            if page < total_page:\n",
    "                page += 1\n",
    "                if start != 991:\n",
    "                    start += 10\n",
    "                elif start == 991:\n",
    "                    start += 9\n",
    "                print(f\"{page:03d}/{total_page:03d}, start: {start} 추출중\", end=\"\\r\")\n",
    "            else:\n",
    "                break\n",
    "            time.sleep(0.5)\n",
    "        except Exception as e:\n",
    "            print(e)\n",
    "            break\n",
    "\n",
    "\n",
    "    print(len(book_lists))\n",
    "    result = pd.DataFrame()\n",
    "    for book_list in book_lists:\n",
    "        temp = pd.json_normalize(book_list['items'])\n",
    "        result = pd.concat([result, temp])\n",
    "    result\n",
    "    result.to_csv(f\"naver_{service}_api_fintech_{query}_result.csv\", encoding=\"utf-8\")"
   ]
  },
  {
   "cell_type": "code",
   "execution_count": 40,
   "id": "d731292e",
   "metadata": {},
   "outputs": [
    {
     "name": "stdout",
     "output_type": "stream",
     "text": [
      "검색 서비스 번호를 입력하세요:\n",
      "    1 블로그\n",
      "    2 책\n",
      "    3 뉴스\n",
      "    4 전문자료\n",
      "    1\n",
      "검색어를 입력하세요: 핀테크\n",
      "009/100, start: 81 추출중\r"
     ]
    },
    {
     "ename": "KeyboardInterrupt",
     "evalue": "",
     "output_type": "error",
     "traceback": [
      "\u001b[1;31m---------------------------------------------------------------------------\u001b[0m",
      "\u001b[1;31mKeyboardInterrupt\u001b[0m                         Traceback (most recent call last)",
      "Cell \u001b[1;32mIn[40], line 1\u001b[0m\n\u001b[1;32m----> 1\u001b[0m \u001b[43mnaver_search\u001b[49m\u001b[43m(\u001b[49m\u001b[43m)\u001b[49m\n",
      "Cell \u001b[1;32mIn[39], line 58\u001b[0m, in \u001b[0;36mnaver_search\u001b[1;34m()\u001b[0m\n\u001b[0;32m     56\u001b[0m     \u001b[38;5;28;01melse\u001b[39;00m:\n\u001b[0;32m     57\u001b[0m         \u001b[38;5;28;01mbreak\u001b[39;00m\n\u001b[1;32m---> 58\u001b[0m     \u001b[43mtime\u001b[49m\u001b[38;5;241;43m.\u001b[39;49m\u001b[43msleep\u001b[49m\u001b[43m(\u001b[49m\u001b[38;5;241;43m0.5\u001b[39;49m\u001b[43m)\u001b[49m\n\u001b[0;32m     59\u001b[0m \u001b[38;5;28;01mexcept\u001b[39;00m \u001b[38;5;167;01mException\u001b[39;00m \u001b[38;5;28;01mas\u001b[39;00m e:\n\u001b[0;32m     60\u001b[0m     \u001b[38;5;28mprint\u001b[39m(e)\n",
      "\u001b[1;31mKeyboardInterrupt\u001b[0m: "
     ]
    }
   ],
   "source": [
    "naver_search()"
   ]
  },
  {
   "cell_type": "code",
   "execution_count": null,
   "id": "c269871e",
   "metadata": {},
   "outputs": [],
   "source": []
  }
 ],
 "metadata": {
  "kernelspec": {
   "display_name": "Python 3 (ipykernel)",
   "language": "python",
   "name": "python3"
  },
  "language_info": {
   "codemirror_mode": {
    "name": "ipython",
    "version": 3
   },
   "file_extension": ".py",
   "mimetype": "text/x-python",
   "name": "python",
   "nbconvert_exporter": "python",
   "pygments_lexer": "ipython3",
   "version": "3.10.14"
  }
 },
 "nbformat": 4,
 "nbformat_minor": 5
}
